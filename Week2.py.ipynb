{
 "cells": [
  {
   "cell_type": "markdown",
   "id": "337e3948",
   "metadata": {},
   "source": [
    "# Implement the ML Models"
   ]
  },
  {
   "cell_type": "markdown",
   "id": "19386a6a",
   "metadata": {},
   "source": [
    "Data Preparation"
   ]
  },
  {
   "cell_type": "code",
   "execution_count": 3,
   "id": "dfa78045",
   "metadata": {},
   "outputs": [],
   "source": [
    "import pandas as pd\n",
    "from sklearn.model_selection import train_test_split\n",
    "from sklearn.preprocessing import LabelEncoder, StandardScaler\n",
    "\n",
    "# Example dataset (use your CSV file instead)\n",
    "df = pd.read_csv(\"C:/Users/KAVYA/Documents/Greenskills/soil_heavy_metal_dataset.csv\")\n",
    "\n",
    "# Encode categorical column 'Soil_Type'\n",
    "le = LabelEncoder()\n",
    "df['Soil_Type'] = le.fit_transform(df['Soil_Type'])\n",
    "\n",
    "# Define features and target\n",
    "features = ['Ni','Pb','Cr','Hg','Cd','As','Cu','Zn','Soil_Type','Sample_Depth_cm']\n",
    "X = df[features]\n",
    "y = df['Contamination_Level']\n",
    "\n",
    "# Encode target (Low=0, Moderate=1, High=2, etc.)\n",
    "y = LabelEncoder().fit_transform(y)\n",
    "\n",
    "# Scale features\n",
    "scaler = StandardScaler()\n",
    "X_scaled = scaler.fit_transform(X)\n",
    "\n",
    "# Train-test split\n",
    "X_train, X_test, y_train, y_test = train_test_split(X_scaled, y, test_size=0.2, random_state=42)\n"
   ]
  },
  {
   "cell_type": "markdown",
   "id": "fd5901cf",
   "metadata": {},
   "source": [
    "Train Models"
   ]
  },
  {
   "cell_type": "code",
   "execution_count": 4,
   "id": "639c8b9f",
   "metadata": {},
   "outputs": [
    {
     "data": {
      "text/plain": [
       "XGBClassifier(base_score=None, booster=None, callbacks=None,\n",
       "              colsample_bylevel=None, colsample_bynode=None,\n",
       "              colsample_bytree=None, device=None, early_stopping_rounds=None,\n",
       "              enable_categorical=False, eval_metric='mlogloss',\n",
       "              feature_types=None, gamma=None, grow_policy=None,\n",
       "              importance_type=None, interaction_constraints=None,\n",
       "              learning_rate=None, max_bin=None, max_cat_threshold=None,\n",
       "              max_cat_to_onehot=None, max_delta_step=None, max_depth=None,\n",
       "              max_leaves=None, min_child_weight=None, missing=nan,\n",
       "              monotone_constraints=None, multi_strategy=None, n_estimators=None,\n",
       "              n_jobs=None, num_parallel_tree=None, objective='multi:softprob', ...)"
      ]
     },
     "execution_count": 4,
     "metadata": {},
     "output_type": "execute_result"
    }
   ],
   "source": [
    "from sklearn.linear_model import LogisticRegression\n",
    "from sklearn.ensemble import RandomForestClassifier\n",
    "from xgboost import XGBClassifier\n",
    "\n",
    "# Logistic Regression\n",
    "log_reg = LogisticRegression(multi_class='ovr', max_iter=1000)\n",
    "log_reg.fit(X_train, y_train)\n",
    "\n",
    "# Random Forest\n",
    "rf = RandomForestClassifier(random_state=42)\n",
    "rf.fit(X_train, y_train)\n",
    "\n",
    "# XGBoost\n",
    "xgb = XGBClassifier(eval_metric='mlogloss', random_state=42)\n",
    "xgb.fit(X_train, y_train)\n"
   ]
  },
  {
   "cell_type": "markdown",
   "id": "59402565",
   "metadata": {},
   "source": [
    "# Evaluate the Models"
   ]
  },
  {
   "cell_type": "code",
   "execution_count": 5,
   "id": "ac7be35c",
   "metadata": {},
   "outputs": [
    {
     "name": "stdout",
     "output_type": "stream",
     "text": [
      "Model: Logistic Regression\n",
      "Accuracy: 0.965\n",
      "Classification Report:\n",
      "               precision    recall  f1-score   support\n",
      "\n",
      "           0       0.00      0.00      0.00         5\n",
      "           1       1.00      0.94      0.97        31\n",
      "           2       0.96      1.00      0.98       164\n",
      "\n",
      "    accuracy                           0.96       200\n",
      "   macro avg       0.65      0.65      0.65       200\n",
      "weighted avg       0.94      0.96      0.95       200\n",
      "\n",
      "Confusion Matrix:\n",
      " [[  0   0   5]\n",
      " [  0  29   2]\n",
      " [  0   0 164]]\n",
      "--------------------------------------------------\n",
      "Model: Random Forest\n",
      "Accuracy: 0.925\n",
      "Classification Report:\n",
      "               precision    recall  f1-score   support\n",
      "\n",
      "           0       0.00      0.00      0.00         5\n",
      "           1       1.00      0.68      0.81        31\n",
      "           2       0.92      1.00      0.96       164\n",
      "\n",
      "    accuracy                           0.93       200\n",
      "   macro avg       0.64      0.56      0.59       200\n",
      "weighted avg       0.91      0.93      0.91       200\n",
      "\n",
      "Confusion Matrix:\n",
      " [[  0   0   5]\n",
      " [  0  21  10]\n",
      " [  0   0 164]]\n",
      "--------------------------------------------------\n",
      "Model: XGBoost\n",
      "Accuracy: 0.955\n",
      "Classification Report:\n",
      "               precision    recall  f1-score   support\n",
      "\n",
      "           0       1.00      0.20      0.33         5\n",
      "           1       0.93      0.90      0.92        31\n",
      "           2       0.96      0.99      0.97       164\n",
      "\n",
      "    accuracy                           0.95       200\n",
      "   macro avg       0.96      0.70      0.74       200\n",
      "weighted avg       0.96      0.95      0.95       200\n",
      "\n",
      "Confusion Matrix:\n",
      " [[  1   0   4]\n",
      " [  0  28   3]\n",
      " [  0   2 162]]\n",
      "--------------------------------------------------\n"
     ]
    },
    {
     "name": "stderr",
     "output_type": "stream",
     "text": [
      "C:\\Users\\KAVYA\\AppData\\Roaming\\Python\\Python310\\site-packages\\sklearn\\metrics\\_classification.py:1318: UndefinedMetricWarning: Precision and F-score are ill-defined and being set to 0.0 in labels with no predicted samples. Use `zero_division` parameter to control this behavior.\n",
      "  _warn_prf(average, modifier, msg_start, len(result))\n",
      "C:\\Users\\KAVYA\\AppData\\Roaming\\Python\\Python310\\site-packages\\sklearn\\metrics\\_classification.py:1318: UndefinedMetricWarning: Precision and F-score are ill-defined and being set to 0.0 in labels with no predicted samples. Use `zero_division` parameter to control this behavior.\n",
      "  _warn_prf(average, modifier, msg_start, len(result))\n",
      "C:\\Users\\KAVYA\\AppData\\Roaming\\Python\\Python310\\site-packages\\sklearn\\metrics\\_classification.py:1318: UndefinedMetricWarning: Precision and F-score are ill-defined and being set to 0.0 in labels with no predicted samples. Use `zero_division` parameter to control this behavior.\n",
      "  _warn_prf(average, modifier, msg_start, len(result))\n",
      "C:\\Users\\KAVYA\\AppData\\Roaming\\Python\\Python310\\site-packages\\sklearn\\metrics\\_classification.py:1318: UndefinedMetricWarning: Precision and F-score are ill-defined and being set to 0.0 in labels with no predicted samples. Use `zero_division` parameter to control this behavior.\n",
      "  _warn_prf(average, modifier, msg_start, len(result))\n",
      "C:\\Users\\KAVYA\\AppData\\Roaming\\Python\\Python310\\site-packages\\sklearn\\metrics\\_classification.py:1318: UndefinedMetricWarning: Precision and F-score are ill-defined and being set to 0.0 in labels with no predicted samples. Use `zero_division` parameter to control this behavior.\n",
      "  _warn_prf(average, modifier, msg_start, len(result))\n",
      "C:\\Users\\KAVYA\\AppData\\Roaming\\Python\\Python310\\site-packages\\sklearn\\metrics\\_classification.py:1318: UndefinedMetricWarning: Precision and F-score are ill-defined and being set to 0.0 in labels with no predicted samples. Use `zero_division` parameter to control this behavior.\n",
      "  _warn_prf(average, modifier, msg_start, len(result))\n"
     ]
    }
   ],
   "source": [
    "from sklearn.metrics import accuracy_score, classification_report, confusion_matrix\n",
    "\n",
    "models = {\n",
    "    \"Logistic Regression\": log_reg,\n",
    "    \"Random Forest\": rf,\n",
    "    \"XGBoost\": xgb\n",
    "}\n",
    "\n",
    "for name, model in models.items():\n",
    "    y_pred = model.predict(X_test)\n",
    "    print(f\"Model: {name}\")\n",
    "    print(\"Accuracy:\", accuracy_score(y_test, y_pred))\n",
    "    print(\"Classification Report:\\n\", classification_report(y_test, y_pred))\n",
    "    print(\"Confusion Matrix:\\n\", confusion_matrix(y_test, y_pred))\n",
    "    print(\"-\"*50)\n"
   ]
  },
  {
   "cell_type": "code",
   "execution_count": 7,
   "id": "8bc2a690",
   "metadata": {},
   "outputs": [
    {
     "name": "stdout",
     "output_type": "stream",
     "text": [
      "Location_ID            0\n",
      "Latitude               0\n",
      "Longitude              0\n",
      "Sample_Depth_cm        0\n",
      "Soil_Type              0\n",
      "Ni                     0\n",
      "Pb                     0\n",
      "Cr                     0\n",
      "Hg                     0\n",
      "Cd                     0\n",
      "As                     0\n",
      "Cu                     0\n",
      "Zn                     0\n",
      "Contamination_Level    0\n",
      "dtype: int64\n",
      "   Latitude  Longitude  Sample_Depth_cm  Soil_Type        Ni        Pb  \\\n",
      "0  0.809919   1.084476         0.345942  -0.464555 -1.699342 -0.159972   \n",
      "1  0.331364   0.977469         0.081730  -0.464555 -0.174818 -1.029054   \n",
      "2  0.288378  -0.689284         1.226650  -0.464555 -0.193859 -1.121154   \n",
      "3  0.027630  -1.099786         0.522083  -1.364856  0.742218 -0.797381   \n",
      "4  0.843804   1.117340         0.786296  -1.364856 -0.540762  0.906909   \n",
      "\n",
      "         Cr        Hg        Cd        As        Cu        Zn  \n",
      "0  0.438249  1.627901  1.290274  0.756866 -1.156289 -0.897943  \n",
      "1  1.707255 -0.457102  1.050766 -1.036173  0.836309  1.220268  \n",
      "2 -1.556842 -0.314627 -0.056527 -0.214579 -1.252537  0.531899  \n",
      "3  1.356005  0.574974  0.082318  1.366603  1.199477 -0.192809  \n",
      "4 -0.253204  1.103175  0.873738 -0.094010  1.147954  1.658246  \n"
     ]
    }
   ],
   "source": [
    "# 1. Import Libraries\n",
    "import pandas as pd\n",
    "import numpy as np\n",
    "from sklearn.preprocessing import StandardScaler, LabelEncoder\n",
    "\n",
    "# 2. Load Dataset\n",
    "df = pd.read_csv(\"C:/Users/KAVYA/Documents/Greenskills/soil_heavy_metal_dataset.csv\")\n",
    "\n",
    "# 3. Handle Missing Values\n",
    "# Check for null values\n",
    "print(df.isnull().sum())\n",
    "\n",
    "# Fill or drop missing values if any\n",
    "df.fillna(df.mean(numeric_only=True), inplace=True)   # for numeric cols\n",
    "df['Soil_Type'].fillna(df['Soil_Type'].mode()[0], inplace=True)  # for categorical\n",
    "\n",
    "# 4. Encode Categorical Variables\n",
    "# Soil_Type is categorical -> Encode it\n",
    "label_encoder = LabelEncoder()\n",
    "df['Soil_Type'] = label_encoder.fit_transform(df['Soil_Type'])\n",
    "\n",
    "# 5. Feature Selection (drop unnecessary columns)\n",
    "features = ['Latitude','Longitude','Sample_Depth_cm','Soil_Type',\n",
    "            'Ni','Pb','Cr','Hg','Cd','As','Cu','Zn']\n",
    "\n",
    "X = df[features]\n",
    "y = df['Contamination_Level']\n",
    "\n",
    "# 6. Encode Target Variable (if needed for ML models)\n",
    "y = label_encoder.fit_transform(y)   # Low=1, Moderate=2, etc.\n",
    "\n",
    "# 7. Scaling the Data\n",
    "scaler = StandardScaler()\n",
    "X_scaled = scaler.fit_transform(X)\n",
    "\n",
    "# 8. Create Final Preprocessed DataFrame\n",
    "X_scaled_df = pd.DataFrame(X_scaled, columns=features)\n",
    "\n",
    "print(X_scaled_df.head())\n"
   ]
  },
  {
   "cell_type": "code",
   "execution_count": 8,
   "id": "f76ba1e0",
   "metadata": {},
   "outputs": [
    {
     "data": {
      "image/png": "[encoded data removed]",
      "text/plain": [
       "<Figure size 1000x600 with 1 Axes>"
      ]
     },
     "metadata": {},
     "output_type": "display_data"
    }
   ],
   "source": [
    "import pandas as pd\n",
    "import matplotlib.pyplot as plt\n",
    "from sklearn.ensemble import RandomForestClassifier\n",
    "\n",
    "# Assuming X_scaled_df (features) and y (encoded contamination levels) are ready\n",
    "\n",
    "# Train a Random Forest model\n",
    "model = RandomForestClassifier(random_state=42)\n",
    "model.fit(X_scaled_df, y)\n",
    "\n",
    "# Get feature importances\n",
    "importances = model.feature_importances_\n",
    "feature_names = X_scaled_df.columns\n",
    "\n",
    "# Create DataFrame\n",
    "feat_imp = pd.DataFrame({'Feature': feature_names, 'Importance': importances})\n",
    "feat_imp = feat_imp.sort_values(by='Importance', ascending=False)\n",
    "\n",
    "# Plot Feature Importance\n",
    "plt.figure(figsize=(10,6))\n",
    "plt.barh(feat_imp['Feature'], feat_imp['Importance'], color='teal')\n",
    "plt.xlabel(\"Importance Score\")\n",
    "plt.ylabel(\"Features\")\n",
    "plt.title(\"Feature Importance for Soil Contamination Level\")\n",
    "plt.gca().invert_yaxis()\n",
    "plt.show()\n"
   ]
  },
  {
   "cell_type": "code",
   "execution_count": null,
   "id": "a1288a29",
   "metadata": {},
   "outputs": [],
   "source": []
  }
 ],
 "metadata": {
  "kernelspec": {
   "display_name": "Python 3 (ipykernel)",
   "language": "python",
   "name": "python3"
  },
  "language_info": {
   "codemirror_mode": {
    "name": "ipython",
    "version": 3
   },
   "file_extension": ".py",
   "mimetype": "text/x-python",
   "name": "python",
   "nbconvert_exporter": "python",
   "pygments_lexer": "ipython3",
   "version": "3.10.9"
  }
 },
 "nbformat": 4,
 "nbformat_minor": 5
}
