{
 "cells": [
  {
   "cell_type": "markdown",
   "id": "e1af6607",
   "metadata": {},
   "source": [
    "1. Load Dataset"
   ]
  },
  {
   "cell_type": "code",
   "execution_count": 1,
   "id": "8cbdaaf8",
   "metadata": {},
   "outputs": [
    {
     "data": {
      "text/html": [
       "<div>\n",
       "<style scoped>\n",
       "    .dataframe tbody tr th:only-of-type {\n",
       "        vertical-align: middle;\n",
       "    }\n",
       "\n",
       "    .dataframe tbody tr th {\n",
       "        vertical-align: top;\n",
       "    }\n",
       "\n",
       "    .dataframe thead th {\n",
       "        text-align: right;\n",
       "    }\n",
       "</style>\n",
       "<table border=\"1\" class=\"dataframe\">\n",
       "  <thead>\n",
       "    <tr style=\"text-align: right;\">\n",
       "      <th></th>\n",
       "      <th>Location_ID</th>\n",
       "      <th>Latitude</th>\n",
       "      <th>Longitude</th>\n",
       "      <th>Sample_Depth_cm</th>\n",
       "      <th>Soil_Type</th>\n",
       "      <th>Ni</th>\n",
       "      <th>Pb</th>\n",
       "      <th>Cr</th>\n",
       "      <th>Hg</th>\n",
       "      <th>Cd</th>\n",
       "      <th>As</th>\n",
       "      <th>Cu</th>\n",
       "      <th>Zn</th>\n",
       "      <th>Contamination_Level</th>\n",
       "    </tr>\n",
       "  </thead>\n",
       "  <tbody>\n",
       "    <tr>\n",
       "      <th>0</th>\n",
       "      <td>1</td>\n",
       "      <td>35.465018</td>\n",
       "      <td>-119.405433</td>\n",
       "      <td>33</td>\n",
       "      <td>Loamy</td>\n",
       "      <td>12.15</td>\n",
       "      <td>140.67</td>\n",
       "      <td>161.15</td>\n",
       "      <td>9.88</td>\n",
       "      <td>8.84</td>\n",
       "      <td>14.33</td>\n",
       "      <td>19.39</td>\n",
       "      <td>112.81</td>\n",
       "      <td>Low</td>\n",
       "    </tr>\n",
       "    <tr>\n",
       "      <th>1</th>\n",
       "      <td>2</td>\n",
       "      <td>35.186667</td>\n",
       "      <td>-119.466985</td>\n",
       "      <td>30</td>\n",
       "      <td>Loamy</td>\n",
       "      <td>96.22</td>\n",
       "      <td>70.37</td>\n",
       "      <td>246.16</td>\n",
       "      <td>3.88</td>\n",
       "      <td>8.15</td>\n",
       "      <td>3.92</td>\n",
       "      <td>75.08</td>\n",
       "      <td>346.55</td>\n",
       "      <td>Moderate</td>\n",
       "    </tr>\n",
       "    <tr>\n",
       "      <th>2</th>\n",
       "      <td>3</td>\n",
       "      <td>35.161664</td>\n",
       "      <td>-120.425729</td>\n",
       "      <td>43</td>\n",
       "      <td>Loamy</td>\n",
       "      <td>95.17</td>\n",
       "      <td>62.92</td>\n",
       "      <td>27.50</td>\n",
       "      <td>4.29</td>\n",
       "      <td>4.96</td>\n",
       "      <td>8.69</td>\n",
       "      <td>16.70</td>\n",
       "      <td>270.59</td>\n",
       "      <td>Low</td>\n",
       "    </tr>\n",
       "    <tr>\n",
       "      <th>3</th>\n",
       "      <td>4</td>\n",
       "      <td>35.010000</td>\n",
       "      <td>-120.661857</td>\n",
       "      <td>35</td>\n",
       "      <td>Clay</td>\n",
       "      <td>146.79</td>\n",
       "      <td>89.11</td>\n",
       "      <td>222.63</td>\n",
       "      <td>6.85</td>\n",
       "      <td>5.36</td>\n",
       "      <td>17.87</td>\n",
       "      <td>85.23</td>\n",
       "      <td>190.62</td>\n",
       "      <td>Moderate</td>\n",
       "    </tr>\n",
       "    <tr>\n",
       "      <th>4</th>\n",
       "      <td>5</td>\n",
       "      <td>35.484727</td>\n",
       "      <td>-119.386529</td>\n",
       "      <td>38</td>\n",
       "      <td>Clay</td>\n",
       "      <td>76.04</td>\n",
       "      <td>226.97</td>\n",
       "      <td>114.83</td>\n",
       "      <td>8.37</td>\n",
       "      <td>7.64</td>\n",
       "      <td>9.39</td>\n",
       "      <td>83.79</td>\n",
       "      <td>394.88</td>\n",
       "      <td>Moderate</td>\n",
       "    </tr>\n",
       "  </tbody>\n",
       "</table>\n",
       "</div>"
      ],
      "text/plain": [
       "   Location_ID   Latitude   Longitude  Sample_Depth_cm Soil_Type      Ni  \\\n",
       "0            1  35.465018 -119.405433               33     Loamy   12.15   \n",
       "1            2  35.186667 -119.466985               30     Loamy   96.22   \n",
       "2            3  35.161664 -120.425729               43     Loamy   95.17   \n",
       "3            4  35.010000 -120.661857               35      Clay  146.79   \n",
       "4            5  35.484727 -119.386529               38      Clay   76.04   \n",
       "\n",
       "       Pb      Cr    Hg    Cd     As     Cu      Zn Contamination_Level  \n",
       "0  140.67  161.15  9.88  8.84  14.33  19.39  112.81                 Low  \n",
       "1   70.37  246.16  3.88  8.15   3.92  75.08  346.55            Moderate  \n",
       "2   62.92   27.50  4.29  4.96   8.69  16.70  270.59                 Low  \n",
       "3   89.11  222.63  6.85  5.36  17.87  85.23  190.62            Moderate  \n",
       "4  226.97  114.83  8.37  7.64   9.39  83.79  394.88            Moderate  "
      ]
     },
     "execution_count": 1,
     "metadata": {},
     "output_type": "execute_result"
    }
   ],
   "source": [
    "import pandas as pd\n",
    "df = pd.read_csv(\"C:/Users/KAVYA/Downloads/Greenskills/soil_heavy_metal_dataset.csv\")\n",
    "df.head()\n"
   ]
  },
  {
   "cell_type": "markdown",
   "id": "09eb7670",
   "metadata": {},
   "source": [
    "2. Handle Missing Values"
   ]
  },
  {
   "cell_type": "code",
   "execution_count": 6,
   "id": "94bc4e42",
   "metadata": {},
   "outputs": [
    {
     "name": "stdout",
     "output_type": "stream",
     "text": [
      "Location_ID            0\n",
      "Latitude               0\n",
      "Longitude              0\n",
      "Sample_Depth_cm        0\n",
      "Soil_Type              0\n",
      "Ni                     0\n",
      "Pb                     0\n",
      "Cr                     0\n",
      "Hg                     0\n",
      "Cd                     0\n",
      "As                     0\n",
      "Cu                     0\n",
      "Zn                     0\n",
      "Contamination_Level    0\n",
      "dtype: int64\n"
     ]
    }
   ],
   "source": [
    "# Check for missing values\n",
    "print(df.isnull().sum())\n",
    "\n",
    "# Fill numeric columns with mean or median\n",
    "numeric_cols = ['Ni','Pb','Cr','Hg','Cd','As','Cu','Zn']\n",
    "df[numeric_cols] = df[numeric_cols].fillna(df[numeric_cols].median())\n",
    "\n",
    "# For categorical columns like Soil_Type\n",
    "df['Soil_Type'] = df['Soil_Type'].fillna(df['Soil_Type'].mode()[0])\n"
   ]
  },
  {
   "cell_type": "code",
   "execution_count": 3,
   "id": "4ca9b915",
   "metadata": {},
   "outputs": [
    {
     "data": {
      "text/plain": [
       "Location_ID              int64\n",
       "Latitude               float64\n",
       "Longitude              float64\n",
       "Sample_Depth_cm          int64\n",
       "Soil_Type               object\n",
       "Ni                     float64\n",
       "Pb                     float64\n",
       "Cr                     float64\n",
       "Hg                     float64\n",
       "Cd                     float64\n",
       "As                     float64\n",
       "Cu                     float64\n",
       "Zn                     float64\n",
       "Contamination_Level     object\n",
       "dtype: object"
      ]
     },
     "execution_count": 3,
     "metadata": {},
     "output_type": "execute_result"
    }
   ],
   "source": [
    "df.dtypes\n",
    "# Convert categorical features to numeric if necessary\n"
   ]
  },
  {
   "cell_type": "markdown",
   "id": "e9dfa3b7",
   "metadata": {},
   "source": [
    "3. Encode Categorical Columns"
   ]
  },
  {
   "cell_type": "code",
   "execution_count": 7,
   "id": "9c0f68e1",
   "metadata": {},
   "outputs": [],
   "source": [
    "from sklearn.preprocessing import LabelEncoder\n",
    "\n",
    "le = LabelEncoder()\n",
    "df['Soil_Type'] = le.fit_transform(df['Soil_Type'])\n"
   ]
  },
  {
   "cell_type": "code",
   "execution_count": 5,
   "id": "22a95b8a",
   "metadata": {},
   "outputs": [],
   "source": [
    "from sklearn.preprocessing import StandardScaler\n",
    "features = ['Ni','Pb','Cr','Hg','Cd','As','Cu','Zn']\n",
    "\n",
    "# Initialize scaler\n",
    "scaler = StandardScaler()\n",
    "\n",
    "# Fit and transform the features\n",
    "X_scaled = scaler.fit_transform(df[features])\n",
    "\n",
    "# Optional: convert back to DataFrame\n",
    "X_scaled_df = pd.DataFrame(X_scaled, columns=features)"
   ]
  },
  {
   "cell_type": "markdown",
   "id": "a700c040",
   "metadata": {},
   "source": [
    "4. Define Features and Target"
   ]
  },
  {
   "cell_type": "code",
   "execution_count": 9,
   "id": "f92f679b",
   "metadata": {},
   "outputs": [],
   "source": [
    "# Features: heavy metal concentrations + other relevant numeric/categorical columns\n",
    "features = ['Ni','Pb','Cr','Hg','Cd','As','Cu','Zn', 'Soil_Type', 'Sample_Depth_cm']\n",
    "\n",
    "# Target: Contamination Level (Safe or Contaminated)\n",
    "target = 'Contamination_Level'\n",
    "\n",
    "X = df[features]\n",
    "y = df[target]\n"
   ]
  },
  {
   "cell_type": "markdown",
   "id": "58e9f1d9",
   "metadata": {},
   "source": [
    "5. Scale Features"
   ]
  },
  {
   "cell_type": "code",
   "execution_count": 10,
   "id": "6235cf0e",
   "metadata": {},
   "outputs": [],
   "source": [
    "from sklearn.preprocessing import StandardScaler\n",
    "\n",
    "scaler = StandardScaler()\n",
    "X_scaled = scaler.fit_transform(X)\n"
   ]
  },
  {
   "cell_type": "markdown",
   "id": "f3aabf9c",
   "metadata": {},
   "source": [
    "6. Encode Target (if categorical)"
   ]
  },
  {
   "cell_type": "code",
   "execution_count": 11,
   "id": "181c68f6",
   "metadata": {},
   "outputs": [],
   "source": [
    "# If Contamination_Level is string like 'Safe', 'Contaminated'\n",
    "y = le.fit_transform(y)\n"
   ]
  },
  {
   "cell_type": "markdown",
   "id": "34a6ca1f",
   "metadata": {},
   "source": [
    "7. Split Dataset into Train/Test"
   ]
  },
  {
   "cell_type": "code",
   "execution_count": 12,
   "id": "d62ef218",
   "metadata": {},
   "outputs": [],
   "source": [
    "from sklearn.model_selection import train_test_split\n",
    "\n",
    "X_train, X_test, y_train, y_test = train_test_split(X_scaled, y, test_size=0.2, random_state=42)\n"
   ]
  },
  {
   "cell_type": "code",
   "execution_count": null,
   "id": "62567ac7",
   "metadata": {},
   "outputs": [],
   "source": []
  }
 ],
 "metadata": {
  "kernelspec": {
   "display_name": "Python 3 (ipykernel)",
   "language": "python",
   "name": "python3"
  },
  "language_info": {
   "codemirror_mode": {
    "name": "ipython",
    "version": 3
   },
   "file_extension": ".py",
   "mimetype": "text/x-python",
   "name": "python",
   "nbconvert_exporter": "python",
   "pygments_lexer": "ipython3",
   "version": "3.10.9"
  }
 },
 "nbformat": 4,
 "nbformat_minor": 5
}
